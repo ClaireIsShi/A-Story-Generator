{
 "cells": [
  {
   "cell_type": "code",
   "execution_count": null,
   "id": "initial_id",
   "metadata": {
    "collapsed": true
   },
   "outputs": [],
   "source": [
    "import os\n",
    "import warnings\n",
    "from typing import Tuple , Dict\n",
    "\n",
    "from langchain_anthropic import ChatAnthropic\n",
    "from langchain_core.prompts import ChatPromptTemplate\n",
    "import os,sys\n",
    "current_dir = os.getcwd()\n",
    "parent_dir = os.path.dirname(current_dir)\n",
    "sys.path.insert(0, parent_dir)\n",
    "from utils import set_env,get_content_between_a_b\n",
    "from StoryState import StoryState\n",
    "set_env()"
   ]
  },
  {
   "metadata": {},
   "cell_type": "code",
   "outputs": [],
   "execution_count": null,
   "source": [
    "# System prompt\n",
    "CHECK_SYS_PRMPT = \"\"\"\n",
    "You're a delicate and experienced {topic} story reader and a native speaker of {language}. You're a good thinker and eager to speak out some issues in the story, you also focus on the details of the story.\n",
    "\"\"\"\n",
    "# Simulated human author's question\n",
    "WRITER_ASK_PRMPT = \"\"\"\n",
    "I'm writing a story based on the following information:\n",
    "topic: {topic}, Main character: {main_character}, Main Goal:{main_goal} language: {language}.\n",
    "Now here's a part of my story: {story}.\n",
    "Do you have any idea about the story? Follow these steps to give me your response:\n",
    "1. You need to read this part of story CAREFULLY;\n",
    "2. Is there any part you find hard to logically understand? give me your confusion and suggestion. If you can understand this part of story well, then just give an empty input;\n",
    "3. Do these details in this part of story logically make sense? Do the character growth of {main_character} detailed enough? If not, give me your suggestion. Do you think the details good enough for you to understand this part of story? If you can understand character growth well, then just give me an empty response;\n",
    "give me your response in the following format:\n",
    "## logical detail confusion:\n",
    "<here put your confusion and suggestion in logic of the part story in {language} you find in step 2>\n",
    "## character growth confusion:\n",
    "<here put your confusion and suggestion in character growth of the part story in {language} you find in step 3>\n",
    "## END\n",
    "\"\"\"\n",
    "\n",
    "# Single LLM, rewrite prompt\n",
    "REWRITE_PROMPT = \"\"\"\n",
    "You're a good story writer and a native speaker of {language}. Now you get one part of your story:{story}. The story id based on these following information:\n",
    "topic: {topic}, Main character: {main_character}, Main Goal:{main_goal} language: {language}.\n",
    "Your job now is to rewrite this story based on the following reader's suggestion:\n",
    "logical detail confusion and suggestion: {logical_confusion_and_suggestion}\n",
    "main character of this story's character growth confusion: {character_growth_confusion_and_suggestion}\n",
    "\"\"\"\n",
    "from settings import WRITE_LLM"
   ],
   "id": "a3503a985d5ceab2"
  }
 ],
 "metadata": {
  "kernelspec": {
   "display_name": "Python 3",
   "language": "python",
   "name": "python3"
  },
  "language_info": {
   "codemirror_mode": {
    "name": "ipython",
    "version": 2
   },
   "file_extension": ".py",
   "mimetype": "text/x-python",
   "name": "python",
   "nbconvert_exporter": "python",
   "pygments_lexer": "ipython2",
   "version": "2.7.6"
  }
 },
 "nbformat": 4,
 "nbformat_minor": 5
}
